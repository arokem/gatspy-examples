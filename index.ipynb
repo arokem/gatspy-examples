{
 "metadata": {
  "name": "",
  "signature": "sha256:17aa640610f32b786e8a182f8f897f81fc79b43f02fa765dfdf542755f58fb80"
 },
 "nbformat": 3,
 "nbformat_minor": 0,
 "worksheets": [
  {
   "cells": [
    {
     "cell_type": "markdown",
     "metadata": {},
     "source": [
      "# ``gatspy``: General tools for Astronomical Time Series\n",
      "\n",
      "This notebook, and the notebooks linked within, contain some examples of using ``gatspy`` for analysis of astronomical time series."
     ]
    },
    {
     "cell_type": "markdown",
     "metadata": {},
     "source": [
      "- [Single-band Lomb-Scargle and Supersmoother](SingleBand.ipynb)\n",
      "\n",
      "- [Multi-band Lomb-Scargle and Supersmoother](MultiBand.ipynb)\n",
      "\n",
      "- [Fast FFT-based Lomb-Scargle Periodograms](FastLombScargle.ipynb)"
     ]
    },
    {
     "cell_type": "markdown",
     "metadata": {},
     "source": [
      "    "
     ]
    },
    {
     "cell_type": "markdown",
     "metadata": {},
     "source": [
      "    "
     ]
    }
   ],
   "metadata": {}
  }
 ]
}